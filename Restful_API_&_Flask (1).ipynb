{
  "nbformat": 4,
  "nbformat_minor": 0,
  "metadata": {
    "colab": {
      "provenance": []
    },
    "kernelspec": {
      "name": "python3",
      "display_name": "Python 3"
    },
    "language_info": {
      "name": "python"
    }
  },
  "cells": [
    {
      "cell_type": "markdown",
      "source": [
        "1.What is a RESTful API?\n",
        "\n",
        "A RESTful API (or REST API) is an application programming interface (API) that follows the principles of Representational State Transfer (REST), using HTTP methods to access and manipulate data, making it a common and flexible way for applications to communicate."
      ],
      "metadata": {
        "id": "Dv53b3VkCixa"
      }
    },
    {
      "cell_type": "markdown",
      "source": [
        "2.Explain the concept of API specification?\n",
        "\n",
        "An API specification is a formal document, often created before building an API, that outlines the structure, functionality, and expected behavior of that API, acting as a blueprint for developers."
      ],
      "metadata": {
        "id": "wH46c_mgCx1H"
      }
    },
    {
      "cell_type": "markdown",
      "source": [
        "3.What is Flask, and why is it popular for building APIs?\n",
        "\n",
        "Flask is a popular Python web framework that can be used to create RESTful APIs for data engineering tasks. Flask provides a simple and flexible way to build APIs that can handle HTTP requests and responses."
      ],
      "metadata": {
        "id": "o_9HWKhPC9cj"
      }
    },
    {
      "cell_type": "markdown",
      "source": [
        "4.What is routing in Flask?\n",
        "\n",
        "Routes in Flask are a fundamental concept in the web framework. routes can be described as the designated paths or endpoints in a web application that correspond to specific functions. These functions are responsible for processing requests and returning the appropriate responses."
      ],
      "metadata": {
        "id": "vjtDhMOKDGpj"
      }
    },
    {
      "cell_type": "markdown",
      "source": [
        "5.How do you create a simple Flask application?\n",
        "\n",
        "To create a simple Flask application, import the Flask class, create an instance of it, define routes using decorators, and then run the application."
      ],
      "metadata": {
        "id": "lKFKNhZkDOjX"
      }
    },
    {
      "cell_type": "markdown",
      "source": [
        "6.What are HTTP methods used in RESTful APIs?\n",
        "\n",
        "In RESTful APIs, the most commonly used HTTP methods are GET, POST, PUT, PATCH, and DELETE, which correspond to the CRUD operations (Create, Read, Update, and Delete) respectively"
      ],
      "metadata": {
        "id": "rv5SK4K0DiI4"
      }
    },
    {
      "cell_type": "markdown",
      "source": [
        "7.What is the purpose of the @app.route() decorator in Flask?\n",
        "\n",
        "We then use the route() decorator to tell Flask what URL should trigger our function. The function returns the message we want to display in the user's browser. The default content type is HTML, so HTML in the string will be rendered by the browser."
      ],
      "metadata": {
        "id": "r9hJ53oEDs4G"
      }
    },
    {
      "cell_type": "markdown",
      "source": [
        "8.What is the difference between GET and POST HTTP methods?\n",
        "\n",
        "The core difference between GET and POST HTTP methods lies in their purpose: GET retrieves data from a server, while POST sends data to the server, often for creating or updating resources."
      ],
      "metadata": {
        "id": "CYSs2fDID3xo"
      }
    },
    {
      "cell_type": "markdown",
      "source": [
        "9.How do you handle errors in Flask APIs?\n",
        "\n",
        "This can be done by registering error handlers. When Flask catches an exception while handling a request, it is first looked up by code. If no handler is registered for the code, Flask looks up the error by its class hierarchy; the most specific handler is chosen."
      ],
      "metadata": {
        "id": "C7wy0aleEAm9"
      }
    },
    {
      "cell_type": "markdown",
      "source": [
        "10.How do you connect Flask to a SQL database?\n",
        "\n",
        "Step 1: Create the getdb function. We are going to write the connection code once in the getdb function and return the database connection anytime it's needed in our routes.\n",
        "Step 2: Close the database connection after each request.\n",
        "Step 3: Use the getdb function in routes."
      ],
      "metadata": {
        "id": "kgsb5YxgEIHp"
      }
    },
    {
      "cell_type": "markdown",
      "source": [
        "11.What is the role of Flask-SQLAlchemy?\n",
        "\n",
        "Flask-SQLAlchemy is a Flask extension that simplifies the integration of the SQLAlchemy database toolkit into Flask applications, handling common database interactions like session management, model definition, and database operations, making it easier to work with databases within your Flask apps."
      ],
      "metadata": {
        "id": "yB7ToCnKEYvy"
      }
    },
    {
      "cell_type": "markdown",
      "source": [
        "12.What are Flask blueprints, and how are they useful/\n",
        "\n",
        "Flask uses a concept of blueprints for making application components and supporting common patterns within an application or across applications. Blueprints can greatly simplify how large applications work and provide a central means for Flask extensions to register operations on applications."
      ],
      "metadata": {
        "id": "1Oki1z66EiZe"
      }
    },
    {
      "cell_type": "markdown",
      "source": [
        "13.What is the purpose of Flask's request object?\n",
        "\n",
        "The Flask Request Object is used to perform both sending and receiving operations from a user's browser to the server and process the request data from the server. It should be imported from the flask module."
      ],
      "metadata": {
        "id": "gvsXBziTEq-k"
      }
    },
    {
      "cell_type": "markdown",
      "source": [
        "14. How do you create a RESTful API endpoint using Flask/\n",
        "\n",
        "In this script, we will define the first endpoint of our application. from flask import Flask app = Flask(__name__) @app. route(\"/\") def hello_world(): return \"Hello, World!\" in the root directory of our application."
      ],
      "metadata": {
        "id": "RO3fhpjYEyGO"
      }
    },
    {
      "cell_type": "markdown",
      "source": [
        "15.What is the purpose of Flask's jsonify() function?\n",
        "\n",
        "Flask's jsonify() function simplifies creating JSON responses by converting Python objects (like dictionaries) into JSON format and setting the appropriate Content-Type header to application/json."
      ],
      "metadata": {
        "id": "_EbomJvzFB1s"
      }
    },
    {
      "cell_type": "markdown",
      "source": [
        "16.Explain Flask’s url_for() function?\n",
        "\n",
        "The url_for() function in Flask is used to generate URLs for a specific function. It accepts the name of the function as its first argument, and any number of keyword arguments, each corresponding to a variable part of the URL rule."
      ],
      "metadata": {
        "id": "2AzDivY6FOVl"
      }
    },
    {
      "cell_type": "markdown",
      "source": [
        "17.How does Flask handle static files (CSS, JavaScript, etc.)?\n",
        "\n",
        "In Flask, static files refer to files such as CSS, JavaScript, images, videos, and audio files that do not change dynamically. Flask provides a built-in way to serve these static files using the /static directory."
      ],
      "metadata": {
        "id": "IMLLjOkmFXbQ"
      }
    },
    {
      "cell_type": "markdown",
      "source": [
        "18.What is an API specification, and how does it help in building a Flask API?\n",
        "\n",
        "An API specification is a structured document that defines an API's endpoints, request/response formats, authentication, and expected data types.\n",
        "\n",
        "1.Ensures clarity & consistency in API design.\n",
        "\n",
        "2.Allows parallel development between backend & frontend.\n",
        "\n",
        "3.Enables automatic documentation with tools like Swagger/OpenAPI.\n",
        "\n",
        "4.Supports validation & testing for API correctness.\n",
        "\n",
        "5.Simplifies third-party integration by providing clear guidelines.\n",
        "\n",
        "\n",
        "Tools like Flask-RESTx, Connexion, and Marshmallow help integrate API specifications into Flask"
      ],
      "metadata": {
        "id": "hgm__xavFkdk"
      }
    },
    {
      "cell_type": "markdown",
      "source": [
        "19.What are HTTP status codes, and why are they important in a Flask API?\n",
        "\n",
        "HTTP status codes are three-digit codes that indicate the outcome of an API request. They are included in the API's response to the API client, and they include important information that helps the client know how to proceed."
      ],
      "metadata": {
        "id": "oc48u_ubGavT"
      }
    },
    {
      "cell_type": "markdown",
      "source": [
        "20.How do you handle POST requests in Flask?\n",
        "\n",
        "To handle both GET and POST requests, we add that in the decorator app. route() method. Whatever request you want, you cahnge it in the decorator. Enter the following script in the Python shell"
      ],
      "metadata": {
        "id": "3IjAYM9lGmNE"
      }
    },
    {
      "cell_type": "markdown",
      "source": [
        "21.How would you secure a Flask API?\n",
        "\n",
        "To protect your APIs built with Flask, it is essential to address several key security aspects: Use HTTPS: Employing HTTPS encrypts data in transit, preventing unauthorized access and mitigating the risk of man-in-the-middle attacks."
      ],
      "metadata": {
        "id": "6T6V6xCWGuV3"
      }
    },
    {
      "cell_type": "markdown",
      "source": [
        "22.What is the significance of the Flask-RESTful extension?\n",
        "\n",
        "Flask-RESTful stands out as a powerful and flexible extension for building RESTful APIs with Python. Its resource-oriented design, intuitive request parsing, and seamless integration with Flask make it an excellent choice for developers looking to create efficient and scalable APIs."
      ],
      "metadata": {
        "id": "EDvj1OH9G5fE"
      }
    },
    {
      "cell_type": "markdown",
      "source": [
        "23.What is the role of Flask’s session object?\n",
        "\n",
        "In Flask, a session object is used to track session data. The session object is essentially a dictionary entity that contains key-value pairs of session parameters and their associated values. This allows the Flask application to maintain state across multiple requests from the same client."
      ],
      "metadata": {
        "id": "SffuToRaHBJm"
      }
    },
    {
      "cell_type": "markdown",
      "source": [
        "#PRACTICAL QUESTIONS"
      ],
      "metadata": {
        "id": "CWaS4gwaHIwf"
      }
    },
    {
      "cell_type": "code",
      "source": [
        "#How do you create a basic Flask application\n",
        "\n",
        "from flask import Flask\n",
        "\n",
        "app = Flask(__name__)\n",
        "@app.route('/')\n",
        "def home():\n",
        "    return \"Hello, Flask!\"\n",
        "\n",
        "if __name__ == '__main__':\n",
        "    app.run(debug=True)"
      ],
      "metadata": {
        "id": "cKKlpURImyMz"
      },
      "execution_count": null,
      "outputs": []
    },
    {
      "cell_type": "code",
      "source": [
        "\n",
        "#How do you serve static files like images or CSS in Flask\n",
        "\n",
        "from flask import Flask, render_template\n",
        "\n",
        "app = Flask(__name__)\n",
        "\n",
        "@app.route('/')\n",
        "def home():\n",
        "    return render_template('index.html')\n",
        "\n",
        "if __name__ == '__main__':\n",
        "    app.run(debug=True)"
      ],
      "metadata": {
        "id": "UbhSjmLHmwzP"
      },
      "execution_count": null,
      "outputs": []
    },
    {
      "cell_type": "code",
      "source": [
        "#How do you define different routes with different HTTP methods in Flask\n",
        "\n",
        "from flask import Flask, request, jsonify\n",
        "\n",
        "app = Flask(__name__)\n",
        "\n",
        "@app.route('/user/<int:user_id>', methods=['GET', 'POST', 'PUT', 'DELETE'])\n",
        "def user_operations(user_id):\n",
        "    if request.method == 'GET':\n",
        "        return jsonify({\"message\": f\"Fetching user {user_id}\"})\n",
        "    elif request.method == 'POST':\n",
        "        return jsonify({\"message\": f\"Creating user {user_id}\"})\n",
        "    elif request.method == 'PUT':\n",
        "        return jsonify({\"message\": f\"Updating user {user_id}\"})\n",
        "    elif request.method == 'DELETE':\n",
        "        return jsonify({\"message\": f\"Deleting user {user_id}\"})\n",
        "\n",
        "if __name__ == '__main__':\n",
        "    app.run(debug=True)\n"
      ],
      "metadata": {
        "id": "lvPFAIckjEtu"
      },
      "execution_count": null,
      "outputs": []
    },
    {
      "cell_type": "code",
      "source": [
        "# How do you render HTML templates in Flask?\n",
        "\n",
        "from flask import Flask, render_template\n",
        "\n",
        "app = Flask(__name__)\n",
        "\n",
        "@app.route('/')\n",
        "def home():\n",
        "    return render_template('index.html')\n",
        "\n",
        "@app.route('/about')\n",
        "def about():\n",
        "    return render_template('about.html')\n",
        "if __name__ == '__main__':\n",
        "    app.run(debug=True)\n"
      ],
      "metadata": {
        "id": "ajWgzfUsjn0E"
      },
      "execution_count": null,
      "outputs": []
    },
    {
      "cell_type": "code",
      "source": [
        "# How can you generate URLs for routes in Flask using url_for\n",
        "\n",
        "from flask import Flask, render_template, url_for\n",
        "\n",
        "app = Flask(__name__)\n",
        "\n",
        "@app.route('/')\n",
        "def home():\n",
        "    return f'Home Page - <a href=\"{url_for(\"about\")}\">Go to About</a>'\n",
        "\n",
        "@app.route('/about')\n",
        "def about():\n",
        "    return f'About Page - <a href=\"{url_for(\"home\")}\">Go to Home</a>'\n",
        "\n",
        "if __name__ == '__main__':\n",
        "    app.run(debug=True)\n"
      ],
      "metadata": {
        "id": "aVbobEgwj9mp"
      },
      "execution_count": null,
      "outputs": []
    },
    {
      "cell_type": "code",
      "source": [
        "#How do you handle forms in Flask\n",
        "\n",
        "from flask import Flask, render_template, request\n",
        "\n",
        "app = Flask(__name__)\n",
        "\n",
        "@app.route('/', methods=['GET', 'POST'])\n",
        "def form():\n",
        "    if request.method == 'POST':\n",
        "        name = request.form.get('name')\n",
        "        email = request.form.get('email')\n",
        "        return f'Hello, {name}! Your email is {email}.'\n",
        "\n",
        "    return render_template('form.html')\n",
        "\n",
        "if __name__ == '__main__':\n",
        "    app.run(debug=True)\n"
      ],
      "metadata": {
        "id": "ixOeX42bkHRd"
      },
      "execution_count": null,
      "outputs": []
    },
    {
      "cell_type": "code",
      "source": [
        "# How can you validate form data in Flask\n",
        "\n",
        "from flask import Flask, render_template, request\n",
        "\n",
        "app = Flask(__name__)\n",
        "\n",
        "@app.route('/', methods=['GET', 'POST'])\n",
        "def form():\n",
        "    error = None\n",
        "    if request.method == 'POST':\n",
        "        name = request.form.get('name')\n",
        "        email = request.form.get('email')\n",
        "\n",
        "        if not name or not email:\n",
        "            error = \"All fields are required!\"\n",
        "        elif \"@\" not in email:\n",
        "            error = \"Invalid email format!\"\n",
        "        else:\n",
        "            return f'Hello, {name}! Your email is {email}.'\n",
        "\n",
        "    return render_template('form.html', error=error)\n",
        "\n",
        "if __name__ == '__main__':\n",
        "    app.run(debug=True)\n"
      ],
      "metadata": {
        "id": "SjL6pRskkTo5"
      },
      "execution_count": null,
      "outputs": []
    },
    {
      "cell_type": "code",
      "source": [
        "# How do you manage sessions in Flask\n",
        "\n",
        "from flask import Flask, session, redirect, url_for, request\n",
        "\n",
        "app = Flask(__name__)\n",
        "app.secret_key = 'your_secret_key'\n",
        "\n",
        "@app.route('/')\n",
        "def index():\n",
        "    return f'Welcome! Your session data: {session.get(\"username\", \"Not logged in\")}. <a href=\"/login\">Login</a>'\n",
        "\n",
        "@app.route('/login', methods=['GET', 'POST'])\n",
        "def login():\n",
        "    if request.method == 'POST':\n",
        "        session['username'] = request.form['username']\n",
        "        return redirect(url_for('index'))\n",
        "\n",
        "    return '''\n",
        "        <form method=\"POST\">\n",
        "            <input type=\"text\" name=\"username\" placeholder=\"Enter username\">\n",
        "            <button type=\"submit\">Login</button>\n",
        "        </form>\n",
        "    '''\n",
        "\n",
        "@app.route('/logout')\n",
        "def logout():\n",
        "    session.pop('username', None)\n",
        "    return redirect(url_for('index'))\n",
        "\n",
        "if __name__ == '__main__':\n",
        "    app.run(debug=True)\n"
      ],
      "metadata": {
        "id": "mSejRV3ekcPV"
      },
      "execution_count": null,
      "outputs": []
    },
    {
      "cell_type": "code",
      "source": [
        "#How do you redirect to a different route in Flask\n",
        "\n",
        "from flask import Flask, redirect, url_for\n",
        "\n",
        "app = Flask(__name__)\n",
        "\n",
        "@app.route('/')\n",
        "def home():\n",
        "    return \"Welcome to Home Page! <a href='/dashboard'>Go to Dashboard</a>\"\n",
        "\n",
        "@app.route('/dashboard')\n",
        "def dashboard():\n",
        "    return \"Welcome to the Dashboard!\"\n",
        "\n",
        "@app.route('/redirect-to-dashboard')\n",
        "def redirect_dashboard():\n",
        "    return redirect(url_for('dashboard'))\n",
        "\n",
        "if __name__ == '__main__':\n",
        "    app.run(debug=True)\n"
      ],
      "metadata": {
        "id": "PQ2EgNS2ko9w"
      },
      "execution_count": null,
      "outputs": []
    },
    {
      "cell_type": "code",
      "source": [
        "#How do you handle errors in Flask (e.g., 404)\n",
        "\n",
        "from flask import Flask, render_template\n",
        "\n",
        "app = Flask(__name__)\n",
        "\n",
        "@app.route('/')\n",
        "def home():\n",
        "    return \"Welcome to the Home Page!\"\n",
        "\n",
        "@app.errorhandler(404)\n",
        "def page_not_found(error):\n",
        "    return render_template('404.html'), 404\n",
        "\n",
        "if __name__ == '__main__':\n",
        "    app.run(debug=True)\n"
      ],
      "metadata": {
        "id": "v32yCh1ikx0r"
      },
      "execution_count": null,
      "outputs": []
    },
    {
      "cell_type": "code",
      "source": [
        "# How do you structure a Flask app using Blueprints\n",
        "\n",
        "from flask import Flask\n",
        "\n",
        "def create_app():\n",
        "    app = Flask(__name__)\n",
        "    app.config['SECRET_KEY'] = 'your_secret_key'\n",
        "\n",
        "    from .routes.auth import auth_bp\n",
        "    from .routes.dashboard import dashboard_bp\n",
        "\n",
        "    app.register_blueprint(auth_bp)\n",
        "    app.register_blueprint(dashboard_bp)\n",
        "\n",
        "    return app\n"
      ],
      "metadata": {
        "id": "oygx0FG-k79z"
      },
      "execution_count": null,
      "outputs": []
    },
    {
      "cell_type": "code",
      "source": [
        "#How do you define a custom Jinja filter in Flask\n",
        "\n",
        "from flask import Flask, render_template\n",
        "\n",
        "app = Flask(__name__)\n",
        "\n",
        "@app.template_filter('reverse_string')\n",
        "def reverse_string(s):\n",
        "    return s[::-1]\n",
        "\n",
        "@app.route('/')\n",
        "def home():\n",
        "    return render_template('index.html', name=\"Flask\")\n",
        "\n",
        "if __name__ == '__main__':\n",
        "    app.run(debug=True)\n"
      ],
      "metadata": {
        "id": "a-PtHC4RlMoF"
      },
      "execution_count": null,
      "outputs": []
    },
    {
      "cell_type": "code",
      "source": [
        "#How can you redirect with query parameters in Flask\n",
        "#Redirect with a user Parameter\n",
        "\n",
        "from flask import Flask, redirect, url_for, request\n",
        "\n",
        "app = Flask(__name__)\n",
        "\n",
        "@app.route('/')\n",
        "def home():\n",
        "    return \"Welcome to the Home Page! <a href='/login'>Login</a>\"\n",
        "\n",
        "@app.route('/login')\n",
        "def login():\n",
        "    return redirect(url_for('profile', username=\"JohnDoe\"))\n",
        "\n",
        "@app.route('/profile')\n",
        "def profile():\n",
        "    username = request.args.get('username')\n",
        "    return f\"Welcome to {username}'s profile!\"\n",
        "\n",
        "if __name__ == '__main__':\n",
        "    app.run(debug=True)\n"
      ],
      "metadata": {
        "colab": {
          "base_uri": "https://localhost:8080/"
        },
        "id": "lDJJNdB6lVcH",
        "outputId": "0980049e-c36c-4ed9-fe1f-58dc95c640f0"
      },
      "execution_count": null,
      "outputs": [
        {
          "output_type": "stream",
          "name": "stdout",
          "text": [
            " * Serving Flask app '__main__'\n",
            " * Debug mode: on\n"
          ]
        },
        {
          "output_type": "stream",
          "name": "stderr",
          "text": [
            "INFO:werkzeug:\u001b[31m\u001b[1mWARNING: This is a development server. Do not use it in a production deployment. Use a production WSGI server instead.\u001b[0m\n",
            " * Running on http://127.0.0.1:5000\n",
            "INFO:werkzeug:\u001b[33mPress CTRL+C to quit\u001b[0m\n",
            "INFO:werkzeug: * Restarting with stat\n"
          ]
        }
      ]
    },
    {
      "cell_type": "code",
      "source": [
        "#How do you return JSON responses in Flask\n",
        "\n",
        "from flask import Flask, jsonify\n",
        "\n",
        "app = Flask(__name__)\n",
        "\n",
        "@app.route('/json')\n",
        "def json_response():\n",
        "    data = {\"message\": \"Hello, Flask!\", \"status\": \"success\"}\n",
        "    return jsonify(data)\n",
        "\n",
        "if __name__ == '__main__':\n",
        "    app.run(debug=True)\n"
      ],
      "metadata": {
        "id": "ZYjPRMiHlvkg"
      },
      "execution_count": null,
      "outputs": []
    },
    {
      "cell_type": "code",
      "source": [
        "# How do you capture URL parameters in Flask\n",
        "\n",
        "from flask import Flask\n",
        "\n",
        "app = Flask(__name__)\n",
        "\n",
        "@app.route('/user/<username>')\n",
        "def show_user(username):\n",
        "    return f\"Hello, {username}!\"\n",
        "\n",
        "if __name__ == '__main__':\n",
        "    app.run(debug=True)\n"
      ],
      "metadata": {
        "id": "eS-zJG0Ml3UC"
      },
      "execution_count": null,
      "outputs": []
    }
  ]
}